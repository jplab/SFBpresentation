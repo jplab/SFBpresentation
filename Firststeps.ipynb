{
 "cells": [
  {
   "cell_type": "markdown",
   "metadata": {},
   "source": [
    "# First Step in SageMath\n",
    "\n",
    "The objective of this class is to present tools and classical data structures to interact with SageMath."
   ]
  },
  {
   "cell_type": "markdown",
   "metadata": {},
   "source": [
    " ## Find help\n",
    " \n",
    " To find help, just type the name of the mathematical concept/object that you wish to use (with first letter in upper and lower case) followed by the question mark and press shift+Enter."
   ]
  },
  {
   "cell_type": "code",
   "execution_count": null,
   "metadata": {},
   "outputs": [],
   "source": [
    "Permutations?"
   ]
  },
  {
   "cell_type": "markdown",
   "metadata": {},
   "source": [
    "If you don't know the name of the mathematical function, you can guess it by writing the first letters and hit the TAB key."
   ]
  },
  {
   "cell_type": "code",
   "execution_count": null,
   "metadata": {},
   "outputs": [],
   "source": [
    "Permu"
   ]
  },
  {
   "cell_type": "markdown",
   "metadata": {},
   "source": [
    "You can also see the source code of a program by putting two question marks."
   ]
  },
  {
   "cell_type": "code",
   "execution_count": null,
   "metadata": {},
   "outputs": [],
   "source": [
    "Permutations??"
   ]
  },
  {
   "cell_type": "markdown",
   "metadata": {},
   "source": [
    " - You can find numerous tutorials in the page Help of the interface jupyter. There are and complete API of the available objects.\n",
    "\n",
    " - Try to find a programming tutorial of Python, a tutorial on linear algebra, a tutorial to use symmetric functions and the API on binary trees.\n",
    " \n",
    "### Reference\n",
    " \n",
    "  http://doc.sagemath.org/html/en/tutorial/tour.html"
   ]
  },
  {
   "cell_type": "markdown",
   "metadata": {},
   "source": [
    "# Polynomials"
   ]
  },
  {
   "cell_type": "markdown",
   "metadata": {},
   "source": [
    " - Roots of a polynomial\n",
    " \n",
    " Look in the documentation how to write a polynomial and define the following one.\n",
    " $$\n",
    " P = x^3- 3\\cdot x^2 + 1.\n",
    " $$\n"
   ]
  },
  {
   "cell_type": "code",
   "execution_count": null,
   "metadata": {},
   "outputs": [],
   "source": [
    "P = x^3 - 3*x^2 + 1"
   ]
  },
  {
   "cell_type": "markdown",
   "metadata": {},
   "source": [
    "Draw this polynomial on the interval $[1,3]$."
   ]
  },
  {
   "cell_type": "code",
   "execution_count": null,
   "metadata": {},
   "outputs": [],
   "source": [
    "P.plot(1,3)"
   ]
  },
  {
   "cell_type": "markdown",
   "metadata": {},
   "source": [
    "Determine the roots of this polynomial."
   ]
  },
  {
   "cell_type": "code",
   "execution_count": null,
   "metadata": {},
   "outputs": [],
   "source": [
    "P.roots()"
   ]
  },
  {
   "cell_type": "markdown",
   "metadata": {},
   "source": [
    "What do you notice? Do you find this normal? Answer: We see radicals and complex numbers, but in the plot we saw that there is (at least) one real root."
   ]
  },
  {
   "cell_type": "code",
   "execution_count": null,
   "metadata": {},
   "outputs": [],
   "source": []
  },
  {
   "cell_type": "markdown",
   "metadata": {},
   "source": [
    "It is also possible to find the approximated values of roots when we specify the interval where to look for the root. Look for the function that allows to do this and determine an approximate value of the three roots by specifying the three intervals."
   ]
  },
  {
   "cell_type": "code",
   "execution_count": null,
   "metadata": {},
   "outputs": [],
   "source": [
    "P.find_root(2.5,3)"
   ]
  },
  {
   "cell_type": "code",
   "execution_count": null,
   "metadata": {},
   "outputs": [],
   "source": [
    "P.find_root(0,1)"
   ]
  },
  {
   "cell_type": "code",
   "execution_count": null,
   "metadata": {},
   "outputs": [],
   "source": [
    "P.find_root(-1,0)"
   ]
  },
  {
   "cell_type": "markdown",
   "metadata": {},
   "source": [
    " - multivariate polynomials\n",
    "\n",
    "Find in the documentation the way to define the ring of polynomials $R$ with two variables $y$ and $t$ with rationals coefficients."
   ]
  },
  {
   "cell_type": "code",
   "execution_count": null,
   "metadata": {},
   "outputs": [],
   "source": [
    "R.<y,t> = PolynomialRing(QQ);R"
   ]
  },
  {
   "cell_type": "markdown",
   "metadata": {},
   "source": [
    "Define the polynomial $Q = y^2 - 1 - 2\\cdot t + t^3$."
   ]
  },
  {
   "cell_type": "code",
   "execution_count": null,
   "metadata": {},
   "outputs": [],
   "source": [
    "Q = y^2-1-2*t+t^3;Q"
   ]
  },
  {
   "cell_type": "markdown",
   "metadata": {},
   "source": [
    "Show it in 3 dimensions."
   ]
  },
  {
   "cell_type": "code",
   "execution_count": null,
   "metadata": {},
   "outputs": [],
   "source": [
    "plot3d(Q,(t,-20,20),(y,-20,20))"
   ]
  },
  {
   "cell_type": "markdown",
   "metadata": {},
   "source": [
    " - polynomial interpolation\n",
    " \n",
    " Find the (minimal degree) polynomial that passes through the following points: $[1,2]$, $[3,2]$, $[-1,-1]$ and $[4,3]$.\n"
   ]
  },
  {
   "cell_type": "code",
   "execution_count": null,
   "metadata": {},
   "outputs": [],
   "source": [
    "T.<x> = PolynomialRing(QQ);"
   ]
  },
  {
   "cell_type": "code",
   "execution_count": null,
   "metadata": {},
   "outputs": [],
   "source": [
    "T.lagrange_polynomial([[1,2],[3,2],[-1,-1],[4,3]])"
   ]
  },
  {
   "cell_type": "code",
   "execution_count": null,
   "metadata": {},
   "outputs": [],
   "source": []
  },
  {
   "cell_type": "markdown",
   "metadata": {},
   "source": [
    " - Polynomial factorization\n",
    "\n",
    "Find the factorizations of the polynomial $54\\cdot x^4+36\\cdot x^3-102\\cdot x^2-72\\cdot x-12$ over the following rings: $\\mathbb{Z}, \\mathbb{Q}$, and the algebraic numbers. With a bit more search, for $\\mathbb{Q}[\\sqrt{2}], GF(5)$."
   ]
  },
  {
   "cell_type": "code",
   "execution_count": null,
   "metadata": {},
   "outputs": [],
   "source": [
    "# A.<x> = PolynomialRing(QQ)\n",
    "# A.<x> = PolynomialRing(ZZ)\n",
    "A.<x> = PolynomialRing(QQbar)\n",
    "F = 54*x^4 + 36*x^3 - 102*x^2 - 72*x - 12\n",
    "F.factor()"
   ]
  },
  {
   "cell_type": "code",
   "execution_count": null,
   "metadata": {},
   "outputs": [],
   "source": [
    "t = var('t') # to reset the variable from the above 't'\n",
    "B.<a> = QQ.extension(t^2 - 2); # 'a' is the new value added representing 'sqrt(2)'\n",
    "A.<x> = PolynomialRing(B) # creating the polynomial ring\n",
    "F = A(54*x^4 + 36*x^3 - 102*x^2 - 72*x - 12) # making sure that the polynomial lives in 'A'\n",
    "F.factor()"
   ]
  },
  {
   "cell_type": "markdown",
   "metadata": {},
   "source": [
    "# Matrix calculus\n",
    "\n",
    "- Inverse of matrices"
   ]
  },
  {
   "cell_type": "markdown",
   "metadata": {},
   "source": [
    "Look in the documentation how to define a matrix with rational coefficients. Define the matrix:\n",
    "$$\n",
    "M = \n",
    "\\left(\n",
    "\\begin{array}{ccc}\n",
    "2 & 4 & 1 \\\\\n",
    "8 & 9 & 2 \\\\ \n",
    "3 & 7 & 3\n",
    "\\end{array}\n",
    "\\right)\n",
    "$$"
   ]
  },
  {
   "cell_type": "code",
   "execution_count": null,
   "metadata": {},
   "outputs": [],
   "source": [
    "M = matrix(QQ,[[2,4,1],[8,9,2],[3,7,3]])"
   ]
  },
  {
   "cell_type": "markdown",
   "metadata": {},
   "source": [
    "Do the same thing but in the Symbolic ring."
   ]
  },
  {
   "cell_type": "code",
   "execution_count": null,
   "metadata": {},
   "outputs": [],
   "source": [
    "M = matrix(SR,[[2,4,1],[8,9,2],[3,7,3]])"
   ]
  },
  {
   "cell_type": "markdown",
   "metadata": {},
   "source": [
    "Verify that it is invertible by computing the determinant:"
   ]
  },
  {
   "cell_type": "code",
   "execution_count": null,
   "metadata": {},
   "outputs": [],
   "source": [
    "M.det() # or det(M), 'det' is one of the rare math. functions to be a 'universal' function"
   ]
  },
  {
   "cell_type": "markdown",
   "metadata": {},
   "source": [
    "Compute now the inverse of this matrix:"
   ]
  },
  {
   "cell_type": "code",
   "execution_count": null,
   "metadata": {},
   "outputs": [],
   "source": [
    "M.inverse()"
   ]
  },
  {
   "cell_type": "markdown",
   "metadata": {},
   "source": [
    " - Kernel\n",
    " \n",
    " Now define the following matrix:\n",
    " $$\n",
    " N = \\left( \n",
    " \\begin{array}{ccc}\n",
    " 1 & 2 & 3 \\\\\n",
    " 4 & 5 & 6 \\\\\n",
    " 7 & 8 & 9\n",
    " \\end{array}\n",
    " \\right)\n",
    " $$"
   ]
  },
  {
   "cell_type": "code",
   "execution_count": null,
   "metadata": {},
   "outputs": [],
   "source": [
    "N = matrix(3,3,range(1,10));N"
   ]
  },
  {
   "cell_type": "markdown",
   "metadata": {},
   "source": [
    "Determine now the kernel of the kernel:"
   ]
  },
  {
   "cell_type": "code",
   "execution_count": null,
   "metadata": {},
   "outputs": [],
   "source": [
    "K = N.kernel();K"
   ]
  },
  {
   "cell_type": "markdown",
   "metadata": {},
   "source": [
    "Get a basis for the kernel."
   ]
  },
  {
   "cell_type": "code",
   "execution_count": null,
   "metadata": {},
   "outputs": [],
   "source": [
    "K.basis()"
   ]
  },
  {
   "cell_type": "markdown",
   "metadata": {},
   "source": [
    " - Solution of linear equations\n",
    " \n",
    "Look up how to determine the solution(s) of the following linear equation:\n",
    " $$\n",
    " \\left(\\begin{array}{rrr}\n",
    "2 & 4 & 1 \\\\\n",
    "8 & 9 & 2 \\\\\n",
    "3 & 7 & 3\n",
    "\\end{array}\\right) \\times x = \n",
    "\\left(\\begin{array}{r}\n",
    "2 \\\\\n",
    "2 \\\\\n",
    "1\n",
    "\\end{array}\\right)\n",
    " $$"
   ]
  },
  {
   "cell_type": "code",
   "execution_count": null,
   "metadata": {},
   "outputs": [],
   "source": [
    "A = matrix(3,3,[2,4,1,8,9,2,3,7,3])\n",
    "B = vector([2,2,1])\n",
    "A\\B"
   ]
  },
  {
   "cell_type": "markdown",
   "metadata": {},
   "source": [
    " - Diagonalization of a matrix\n",
    " \n",
    " Let $M$ be the matrix\n",
    "$$\n",
    " M=\n",
    " \\left(\\begin{array}{rrr}\n",
    "0 & 1 & 3 \\\\\n",
    "1 & -1 & 0 \\\\\n",
    "1 & 0 & 1\n",
    "\\end{array}\\right)\n",
    "$$\n",
    " \n",
    " \n",
    " \n",
    " Find how to diagonalize $M$ by using the eigenmatrices and its diagonalization (if possible)."
   ]
  },
  {
   "cell_type": "code",
   "execution_count": null,
   "metadata": {},
   "outputs": [],
   "source": [
    "M = matrix(QQ,3,3,[0,1,3,1,-1,0,1,0,1]);M"
   ]
  },
  {
   "cell_type": "code",
   "execution_count": null,
   "metadata": {},
   "outputs": [],
   "source": [
    "D,R = M.eigenmatrix_left();D"
   ]
  },
  {
   "cell_type": "code",
   "execution_count": null,
   "metadata": {},
   "outputs": [],
   "source": [
    "R^-1*D*R"
   ]
  },
  {
   "cell_type": "code",
   "execution_count": null,
   "metadata": {},
   "outputs": [],
   "source": [
    "R^-1*D*R == M"
   ]
  },
  {
   "cell_type": "markdown",
   "metadata": {},
   "source": [
    " - Representation in Jordan form\n",
    " \n",
    "Define the following matrix $M=\n",
    "\\left(\\begin{array}{rrr}\n",
    "5 & 1 & -1 \\\\\n",
    "-1 & 7 & -4 \\\\\n",
    "0 & 0 & 3\n",
    "\\end{array}\\right)\n",
    "$.\n",
    "\n"
   ]
  },
  {
   "cell_type": "code",
   "execution_count": null,
   "metadata": {},
   "outputs": [],
   "source": [
    "M = matrix(QQ,3,3,[5,1,-1,-1,7,-4,0,0,3]);M"
   ]
  },
  {
   "cell_type": "markdown",
   "metadata": {},
   "source": [
    "If the matrix is diagonalizable, we can use eigenmatrix to compute the diagonal matrix. Otherwise we should not do it!\n",
    "\n",
    "Try to diagonalize the matrix $M$:"
   ]
  },
  {
   "cell_type": "code",
   "execution_count": null,
   "metadata": {},
   "outputs": [],
   "source": [
    "D,R = M.eigenmatrix_left();D"
   ]
  },
  {
   "cell_type": "markdown",
   "metadata": {},
   "source": [
    "Show the eigenmatrix, what do you notice?"
   ]
  },
  {
   "cell_type": "code",
   "execution_count": null,
   "metadata": {},
   "outputs": [],
   "source": [
    "R"
   ]
  },
  {
   "cell_type": "markdown",
   "metadata": {},
   "source": [
    "Here, we see that the eigenmatrix is not invertible. This is disapointing! In fact $M$ is not diagonalizable and we should not have used the method eigenmatrix_left.\n",
    "\n",
    "In fact, we must put the matrix in the Jordan form. Look for the function and give the eigenmatrix."
   ]
  },
  {
   "cell_type": "code",
   "execution_count": null,
   "metadata": {},
   "outputs": [],
   "source": [
    "JF,R = M.jordan_form(transformation=True);JF,R"
   ]
  },
  {
   "cell_type": "code",
   "execution_count": null,
   "metadata": {},
   "outputs": [],
   "source": []
  },
  {
   "cell_type": "markdown",
   "metadata": {},
   "source": [
    "Verify that you really obtained the Jordan form."
   ]
  },
  {
   "cell_type": "code",
   "execution_count": null,
   "metadata": {},
   "outputs": [],
   "source": [
    "R*JF*R^-1"
   ]
  },
  {
   "cell_type": "markdown",
   "metadata": {},
   "source": [
    "**Exercise :** Compute $M^{11}$"
   ]
  },
  {
   "cell_type": "code",
   "execution_count": null,
   "metadata": {},
   "outputs": [],
   "source": [
    "R*JF^11*R^-1"
   ]
  },
  {
   "cell_type": "markdown",
   "metadata": {},
   "source": [
    "# Derivation and Integration"
   ]
  },
  {
   "cell_type": "markdown",
   "metadata": {},
   "source": [
    " - Define the following functions: $$sin(x)$$ \n",
    " $$fx^3+x-1$$\n",
    " $$\\ln(x^4-3)$$ \n",
    " Look in the documentation how to derivate a function and compute the first derivative of each functions."
   ]
  },
  {
   "cell_type": "code",
   "execution_count": null,
   "metadata": {},
   "outputs": [],
   "source": [
    "x = var('x')\n",
    "f = sin(x)\n",
    "g = x^3 + x - 1\n",
    "h = ln(x^4 - 3)\n",
    "\n",
    "f.derivative(),g.derivative(),h.derivative()"
   ]
  },
  {
   "cell_type": "markdown",
   "metadata": {},
   "source": [
    " - Compute the third derivative of the functions."
   ]
  },
  {
   "cell_type": "code",
   "execution_count": null,
   "metadata": {},
   "outputs": [],
   "source": [
    "f.derivative(3),g.derivative(3),h.derivative(3)"
   ]
  },
  {
   "cell_type": "markdown",
   "metadata": {},
   "source": [
    " - Compute the following integral \n",
    "    $$\n",
    "    \\int x\\sin(x^3)dx\n",
    "    $$"
   ]
  },
  {
   "cell_type": "code",
   "execution_count": null,
   "metadata": {},
   "outputs": [],
   "source": [
    "integrate(x*sin(x^3), x)"
   ]
  },
  {
   "cell_type": "markdown",
   "metadata": {},
   "source": [
    " - and this one :\n",
    " $$\n",
    " \\int_0^1 \\frac{x}{x^2+1} dx\n",
    " $$"
   ]
  },
  {
   "cell_type": "code",
   "execution_count": null,
   "metadata": {},
   "outputs": [],
   "source": [
    "integrate(x/(x^2 + 1), x,0,1)"
   ]
  },
  {
   "cell_type": "markdown",
   "metadata": {},
   "source": [
    "# Differencial equations\n",
    "\n",
    "## Basic commands\n",
    "\n",
    " - We begin by defining a variable $t$ and a function $y$ that depends on this variable:\n"
   ]
  },
  {
   "cell_type": "code",
   "execution_count": null,
   "metadata": {},
   "outputs": [],
   "source": [
    "t = var('t')"
   ]
  },
  {
   "cell_type": "code",
   "execution_count": null,
   "metadata": {},
   "outputs": [],
   "source": [
    "y = function('y')(t)"
   ]
  },
  {
   "cell_type": "markdown",
   "metadata": {},
   "source": [
    "Read in the documentation how the function 'desolve' works."
   ]
  },
  {
   "cell_type": "markdown",
   "metadata": {},
   "source": [
    "For example, take the differential equation of the first order:\n",
    "\n",
    "$$y'+ 3y = e^t$$ "
   ]
  },
  {
   "cell_type": "code",
   "execution_count": null,
   "metadata": {},
   "outputs": [],
   "source": [
    "de = diff(y,t) + 3*y == exp(t)"
   ]
  },
  {
   "cell_type": "markdown",
   "metadata": {},
   "source": [
    " - Vous pouvez obtenir la solution particulière vérifiant y(0) = 1 avec la commande :"
   ]
  },
  {
   "cell_type": "code",
   "execution_count": null,
   "metadata": {},
   "outputs": [],
   "source": [
    "Y = desolve(de,y,[0,1]);Y"
   ]
  },
  {
   "cell_type": "code",
   "execution_count": null,
   "metadata": {},
   "outputs": [],
   "source": []
  },
  {
   "cell_type": "markdown",
   "metadata": {},
   "source": [
    " **Exercise :** "
   ]
  },
  {
   "cell_type": "markdown",
   "metadata": {},
   "source": [
    " - Resolve the following differential equation of the first order:\n",
    " $$\n",
    " y'-2y/(x-1)=(x+1)^3\n",
    " $$"
   ]
  },
  {
   "cell_type": "code",
   "execution_count": null,
   "metadata": {},
   "outputs": [],
   "source": [
    "x = var('x')\n",
    "y = function('y')(x)\n",
    "de = diff(y,x) -2*y/(x - 1) == (x + 1)^3\n",
    "desolve(de,y)"
   ]
  },
  {
   "cell_type": "markdown",
   "metadata": {},
   "source": [
    " - Knowing that the second derivative of the function $x$ w.r.t. $t$ is obtained with *diff(x,t,2)*, resolve the following equation of the second order with constant coefficients:\n",
    " $$\n",
    " y\"+3y=t^2-7t+31\n",
    " $$"
   ]
  },
  {
   "cell_type": "code",
   "execution_count": null,
   "metadata": {},
   "outputs": [],
   "source": [
    "t = var('t')\n",
    "y = function('y')(t)\n",
    "de = diff(y,t,2) + 3*y == t^2 - 7*t + 31\n",
    "desolve(de,y)"
   ]
  },
  {
   "cell_type": "markdown",
   "metadata": {},
   "source": [
    "# Graph theory\n",
    "\n",
    " - Digraph\n",
    " \n",
    " Look how to define the directed graph with vertices $V = \\{0, 1, 2, 3, 4\\}$ and arcs are $E = \\{ (0,1), (0,2), (0,3), (1,0), (2,4) \\}$.\n"
   ]
  },
  {
   "cell_type": "code",
   "execution_count": null,
   "metadata": {},
   "outputs": [],
   "source": [
    "D = DiGraph([range(5),[(0,1),(0,2),(0,3),(1,0),(2,4)]])"
   ]
  },
  {
   "cell_type": "markdown",
   "metadata": {},
   "source": [
    " - Shortest path\n",
    "\n",
    "Determine the shortest path from 1 to 4."
   ]
  },
  {
   "cell_type": "code",
   "execution_count": null,
   "metadata": {},
   "outputs": [],
   "source": [
    "D.shortest_path(1,4)"
   ]
  },
  {
   "cell_type": "markdown",
   "metadata": {},
   "source": [
    "# Combinatorics"
   ]
  },
  {
   "cell_type": "markdown",
   "metadata": {},
   "source": [
    " - Cartesian product\n",
    " \n",
    " Look in the documentation how to define the following cartesian products:\n",
    " $$\n",
    " \\{3,4,5\\} \\times \\{6,7,8\\} \\times \\{ 3 \\}\n",
    " $$\n",
    "\n",
    "List the elements of this product."
   ]
  },
  {
   "cell_type": "code",
   "execution_count": null,
   "metadata": {},
   "outputs": [],
   "source": [
    "CP = cartesian_product([set([3,4,5]),set([6,7,8]),set([3])]);list(CP)"
   ]
  },
  {
   "cell_type": "markdown",
   "metadata": {},
   "source": [
    " - subsets\n",
    " \n",
    " Also, list all subsets of \\{1,2,3\\}."
   ]
  },
  {
   "cell_type": "code",
   "execution_count": null,
   "metadata": {},
   "outputs": [],
   "source": [
    "list(subsets(set([1,2,3])))"
   ]
  },
  {
   "cell_type": "markdown",
   "metadata": {},
   "source": [
    "List now the subsets of size 2 of $\\{1, 2, 3 \\}$."
   ]
  },
  {
   "cell_type": "code",
   "execution_count": null,
   "metadata": {},
   "outputs": [],
   "source": [
    "S = Subsets(set([1,2,3]), 2); S.list()"
   ]
  },
  {
   "cell_type": "code",
   "execution_count": null,
   "metadata": {},
   "outputs": [],
   "source": []
  }
 ],
 "metadata": {
  "kernelspec": {
   "display_name": "SageMath 8.4.beta2",
   "language": "",
   "name": "sagemath"
  },
  "language_info": {
   "codemirror_mode": {
    "name": "ipython",
    "version": 2
   },
   "file_extension": ".py",
   "mimetype": "text/x-python",
   "name": "python",
   "nbconvert_exporter": "python",
   "pygments_lexer": "ipython2",
   "version": "2.7.15"
  }
 },
 "nbformat": 4,
 "nbformat_minor": 1
}
