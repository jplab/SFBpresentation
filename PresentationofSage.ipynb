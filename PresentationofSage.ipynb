{
 "cells": [
  {
   "cell_type": "markdown",
   "metadata": {
    "slideshow": {
     "slide_type": "slide"
    }
   },
   "source": [
    "# SageMath (GPLv2+, since 2005)\n",
    "\n",
    "### [www.sagemath.org](www.sagemath.org)\n",
    "### current version v8.3 (August 2018)\n",
    "\n",
    "#### Mission statement: *Create a viable open source free alternative to Magma, Maple, Mathematica, and MATLAB which uses a standard modern language.*\n",
    "\n",
    "#### <span style=\"color:red\">... and to foster a friendly community of users and developers</span>.\n",
    "\n",
    "<div style=\"text-align:center\"><img src=\"sage-car-medium.jpg\" alt=\"drawing\" width=\"400\"/></div>\n",
    "\n",
    "#### *\"Every free computer algebra system I’ve tried has reinvented many times the wheel without being able to <span style=\"color:red\">build the car.</span>\"*  --William Stein"
   ]
  },
  {
   "cell_type": "markdown",
   "metadata": {
    "slideshow": {
     "slide_type": "slide"
    }
   },
   "source": [
    "## Sage is a “mathematics software system” composed of free and open source software.\n",
    "\n",
    "## Here are some quotes\n",
    "\n",
    "#### \"You can read Sylow’s Theorem and its proof in Huppert’s book in the library [...] then you can use Sylow’s Theorem for the rest of your life free of charge, but for many computer algebra systems license fees have to be paid regularly [...].\n",
    "\n",
    "#### With this situation two of the most basic rules of conduct in mathematics are violated: \n",
    "\n",
    "#### - In mathematics <span style=\"color:red\">information is passed on free of charge and everything is laid open for checking</span>. Not applying these rules to computer algebra systems that are made for mathematical research [...] means moving in a most undesirable direction.\n",
    "\n",
    "#### Most important: \n",
    "\n",
    "#### - Can we expect somebody to <span style=\"color:red\">believe a result of a program that he is not allowed to see</span>?\"\n",
    "\n",
    "#### <div style=\"text-align: right\">– J. Neubüser in 1993 (he started GAP in 1986).</div>"
   ]
  },
  {
   "cell_type": "markdown",
   "metadata": {
    "slideshow": {
     "slide_type": "subslide"
    }
   },
   "source": [
    "### “I think, fundamentally, open source does tend to be more stable software. It’s the right way to do things. I compare it to <span style=\"color:red\">science versus witchcraft</span>.\n",
    "\n",
    "### In science, the whole system builds on people looking at other people’s results and building on top of them. \n",
    "\n",
    "### In witchcraft, somebody had a small secret and guarded it—but never allowed others to really understand it and build on it.”\n",
    "\n",
    "### <div style=\"text-align: right\">—Linus Torvalds.</div>"
   ]
  },
  {
   "cell_type": "code",
   "execution_count": 2,
   "metadata": {
    "slideshow": {
     "slide_type": "subslide"
    }
   },
   "outputs": [],
   "source": [
    "graphs.LjubljanaGraph??"
   ]
  },
  {
   "cell_type": "code",
   "execution_count": null,
   "metadata": {
    "slideshow": {
     "slide_type": "-"
    }
   },
   "outputs": [],
   "source": []
  },
  {
   "cell_type": "markdown",
   "metadata": {
    "slideshow": {
     "slide_type": "slide"
    }
   },
   "source": [
    "### The language of SAGE is a slightly modified Python language. Python is an object oriented and therefore everything in SAGE are objects.\n",
    "\n",
    "### SAGE builds on Python, GAP, Maxima, Singular, PARI, etc., and provides a unified interface to Mathematica, Maple, Magma, MATLAB, etc.\n",
    "\n",
    "### The following page lists the platforms on which Sage should work:\n",
    "\n",
    "### [http://wiki.sagemath.org/SupportedPlatforms](http://wiki.sagemath.org/SupportedPlatforms)"
   ]
  },
  {
   "cell_type": "markdown",
   "metadata": {
    "slideshow": {
     "slide_type": "subslide"
    }
   },
   "source": [
    "- Sage is developed by volunteers and combines over 90 open source packages.\n",
    "- All new code is:\n",
    "  + rigorously tested\n",
    "  + well documented\n",
    "  + peer-reviewed\n",
    "\n",
    " Around 3-4 release per year."
   ]
  },
  {
   "cell_type": "markdown",
   "metadata": {
    "slideshow": {
     "slide_type": "slide"
    }
   },
   "source": [
    "- There have been (100+) SAGE workshops [https://wiki.sagemath.org/](https://wiki.sagemath.org/)\n",
    "- <span style=\"color:red\">104 people contributed to the last release</span> (v8.3 August 2018)\n",
    "- Of those, <span style=\"color:red\">19 made their first contribution</span> to Sage (520 tickets in this release)\n",
    "\n",
    "![title](map_devel.png)\n"
   ]
  },
  {
   "cell_type": "markdown",
   "metadata": {
    "slideshow": {
     "slide_type": "slide"
    }
   },
   "source": [
    "## Where to get Sage?\n",
    "\n",
    "## [Github](https://github.com/sagemath/sage)\n",
    "\n",
    "## [Stable release source](http://www.sagemath.org/download-source.html)\n",
    "\n",
    "## [Binaries](http://www.sagemath.org/download.html)\n",
    "\n",
    "## How to install?\n",
    "\n",
    "## [Sage installation guide](http://doc.sagemath.org/html/en/installation/)"
   ]
  },
  {
   "cell_type": "markdown",
   "metadata": {
    "slideshow": {
     "slide_type": "subslide"
    }
   },
   "source": [
    "# How to get help?\n",
    "\n",
    "### If you have any questions and/or problems, please report them to any of these Google groups:\n",
    "\n",
    "### About general support regarding Sage functionalities:\n",
    "###  * sage-support: [http://groups.google.com/group/sage-support](http://groups.google.com/group/sage-support)\n",
    "\n",
    "### About development related questions:\n",
    "###  * sage-devel: [http://groups.google.com/group/sage-devel](http://groups.google.com/group/sage-devel)\n",
    "\n",
    "\n",
    "### You can also drop by in #sagemath on freenode\n",
    "\n",
    "### Post your questions at [http://ask.sagemath.org/](http://ask.sagemath.org) (Mathoverflow like!)"
   ]
  },
  {
   "cell_type": "markdown",
   "metadata": {
    "slideshow": {
     "slide_type": "slide"
    }
   },
   "source": [
    "# Let's try out sage!"
   ]
  },
  {
   "cell_type": "code",
   "execution_count": null,
   "metadata": {
    "slideshow": {
     "slide_type": "fragment"
    }
   },
   "outputs": [],
   "source": []
  }
 ],
 "metadata": {
  "celltoolbar": "Slideshow",
  "kernelspec": {
   "display_name": "SageMath 8.4.beta2",
   "language": "",
   "name": "sagemath"
  },
  "language_info": {
   "codemirror_mode": {
    "name": "ipython",
    "version": 2
   },
   "file_extension": ".py",
   "mimetype": "text/x-python",
   "name": "python",
   "nbconvert_exporter": "python",
   "pygments_lexer": "ipython2",
   "version": "2.7.15"
  },
  "livereveal": {
   "autolaunch": true
  }
 },
 "nbformat": 4,
 "nbformat_minor": 2
}
