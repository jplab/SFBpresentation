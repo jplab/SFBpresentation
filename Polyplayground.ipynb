{
 "cells": [
  {
   "cell_type": "code",
   "execution_count": null,
   "metadata": {},
   "outputs": [],
   "source": [
    "n = 10\n",
    "d = 3\n",
    "pts = [[QQ(random()) for i in range(d)] for ii in range(n)]"
   ]
  },
  {
   "cell_type": "code",
   "execution_count": null,
   "metadata": {
    "scrolled": false
   },
   "outputs": [],
   "source": [
    "points(pts,size=30,viewer='threejs',online=True)"
   ]
  },
  {
   "cell_type": "code",
   "execution_count": null,
   "metadata": {},
   "outputs": [],
   "source": [
    "P = Polyhedron(pts)\n",
    "print P\n",
    "P.plot(viewer='threejs',online=True)"
   ]
  },
  {
   "cell_type": "code",
   "execution_count": null,
   "metadata": {
    "scrolled": true
   },
   "outputs": [],
   "source": [
    "C = polytopes.cube()\n",
    "C.plot(viewer='threejs',online=True)"
   ]
  },
  {
   "cell_type": "code",
   "execution_count": null,
   "metadata": {},
   "outputs": [],
   "source": [
    "print C.vertices()"
   ]
  },
  {
   "cell_type": "code",
   "execution_count": null,
   "metadata": {
    "scrolled": true
   },
   "outputs": [],
   "source": [
    "hyperplanes = [list(h) for h in C.Hrepresentation()]\n",
    "print C.Hrepresentation()"
   ]
  },
  {
   "cell_type": "code",
   "execution_count": null,
   "metadata": {},
   "outputs": [],
   "source": [
    "print hyperplanes"
   ]
  },
  {
   "cell_type": "code",
   "execution_count": null,
   "metadata": {},
   "outputs": [],
   "source": [
    "c = Polyhedron(ieqs=hyperplanes)"
   ]
  },
  {
   "cell_type": "code",
   "execution_count": null,
   "metadata": {},
   "outputs": [],
   "source": [
    "c==C"
   ]
  },
  {
   "cell_type": "code",
   "execution_count": null,
   "metadata": {},
   "outputs": [],
   "source": [
    "H = Polyhedron(ieqs=[[0,1,1,1],[0,-1,-1,-1]])\n",
    "print H\n",
    "H.show(viewer='threejs',online=True)"
   ]
  },
  {
   "cell_type": "code",
   "execution_count": null,
   "metadata": {},
   "outputs": [],
   "source": [
    "cut = Polyhedron(ieqs=hyperplanes+[[0,1,1,1],[0,-1,-1,-1]])"
   ]
  },
  {
   "cell_type": "code",
   "execution_count": null,
   "metadata": {},
   "outputs": [],
   "source": [
    "print cut\n",
    "cut.show(viewer='threejs',online=True)"
   ]
  },
  {
   "cell_type": "code",
   "execution_count": null,
   "metadata": {},
   "outputs": [],
   "source": [
    "Cut = H.intersection(C)\n",
    "Cut == cut"
   ]
  },
  {
   "cell_type": "code",
   "execution_count": null,
   "metadata": {},
   "outputs": [],
   "source": [
    "C4 = polytopes.hypercube(4)\n",
    "H4 = Polyhedron(ieqs=[[0,1,1,1,1],[0,-1,-1,-1,-1]])"
   ]
  },
  {
   "cell_type": "code",
   "execution_count": null,
   "metadata": {},
   "outputs": [],
   "source": [
    "C4.vertices()"
   ]
  },
  {
   "cell_type": "code",
   "execution_count": null,
   "metadata": {},
   "outputs": [],
   "source": [
    "Q = C4.intersection(H4)\n",
    "print Q.f_vector()\n",
    "Q.face_lattice().plot().show()\n",
    "Q.face_lattice().is_isomorphic(polytopes.octahedron().face_lattice())"
   ]
  },
  {
   "cell_type": "markdown",
   "metadata": {},
   "source": [
    "You can go even faster:"
   ]
  },
  {
   "cell_type": "code",
   "execution_count": null,
   "metadata": {},
   "outputs": [],
   "source": [
    "Q.is_combinatorially_isomorphic(polytopes.octahedron())  # Does not compute the whole face lattice"
   ]
  },
  {
   "cell_type": "code",
   "execution_count": null,
   "metadata": {},
   "outputs": [],
   "source": []
  },
  {
   "cell_type": "code",
   "execution_count": null,
   "metadata": {},
   "outputs": [],
   "source": [
    "T = polytopes.tetrahedron().translation(-polytopes.tetrahedron().center())\n",
    "MT = Polyhedron([-vector(v) for v in T.vertices()])\n",
    "MT.plot(opacity=.5,color='red')+T.plot(opacity=.5,color='blue',viewer='threejs',online=True)"
   ]
  },
  {
   "cell_type": "code",
   "execution_count": null,
   "metadata": {},
   "outputs": [],
   "source": [
    "MT.intersection(T).plot(viewer='threejs',online=True)"
   ]
  },
  {
   "cell_type": "code",
   "execution_count": null,
   "metadata": {},
   "outputs": [],
   "source": [
    "T = polytopes.regular_polygon(3).translation(-polytopes.regular_polygon(3).center())\n",
    "MT = Polyhedron([-vector(v) for v in T.vertices()])\n",
    "(MT.plot(color='blue',fill=False)+T.plot(color='blue',fill=False,wireframe=[22,20])).show(aspect_ratio=1)"
   ]
  },
  {
   "cell_type": "code",
   "execution_count": null,
   "metadata": {},
   "outputs": [],
   "source": [
    "MT.restricted_automorphism_group?"
   ]
  },
  {
   "cell_type": "code",
   "execution_count": null,
   "metadata": {},
   "outputs": [],
   "source": [
    "D = polytopes.dodecahedron()\n",
    "DAA = Polyhedron(D.vertices(),base_ring=AA)\n",
    "I = Polyhedron([2*vector(v) for v in polytopes.regular_polygon(3).bipyramid().vertices()])\n",
    "\n",
    "IDI = DAA.intersection(I)\n",
    "IDI.show(viewer='threejs',online=True)"
   ]
  },
  {
   "cell_type": "code",
   "execution_count": null,
   "metadata": {},
   "outputs": [],
   "source": [
    "v = IDI.vertices()[4]\n",
    "print v\n",
    "print v[1].degree()\n",
    "v[1].minpoly()"
   ]
  },
  {
   "cell_type": "code",
   "execution_count": null,
   "metadata": {},
   "outputs": [],
   "source": [
    "D = polytopes.dodecahedron()"
   ]
  },
  {
   "cell_type": "code",
   "execution_count": null,
   "metadata": {},
   "outputs": [],
   "source": [
    "D.show(viewer='threejs',online=True)"
   ]
  },
  {
   "cell_type": "code",
   "execution_count": null,
   "metadata": {},
   "outputs": [],
   "source": [
    "D.graph().plot()"
   ]
  },
  {
   "cell_type": "code",
   "execution_count": null,
   "metadata": {},
   "outputs": [],
   "source": [
    "G = D.graph()\n",
    "H = G.hamiltonian_cycle()\n",
    "G.plot(vertex_labels=False)"
   ]
  },
  {
   "cell_type": "code",
   "execution_count": null,
   "metadata": {},
   "outputs": [],
   "source": [
    "hamiltoniancolors={}\n",
    "hamiltoniancolors['red'] = H.edges()"
   ]
  },
  {
   "cell_type": "code",
   "execution_count": null,
   "metadata": {},
   "outputs": [],
   "source": [
    "G.plot(edge_colors=hamiltoniancolors,vertex_labels=False)"
   ]
  },
  {
   "cell_type": "code",
   "execution_count": null,
   "metadata": {},
   "outputs": [],
   "source": [
    "(D.plot(opacity=.3) + sum([Polyhedron([h[0],h[1]]).plot(color='blue',thickness=30) for h in H.edges()])).show(viewer='threejs',online=True)"
   ]
  },
  {
   "cell_type": "code",
   "execution_count": null,
   "metadata": {},
   "outputs": [],
   "source": [
    "D.face_lattice().hasse_diagram().automorphism_group().order()"
   ]
  },
  {
   "cell_type": "code",
   "execution_count": null,
   "metadata": {},
   "outputs": [],
   "source": []
  },
  {
   "cell_type": "code",
   "execution_count": null,
   "metadata": {},
   "outputs": [],
   "source": [
    "def getrandompolytope(n,d):#returns convex hull of n random points in d-space\n",
    "    pts=[[QQ(random()) for i in range(d)] for ii in range(n)]\n",
    "    return Polyhedron(pts)"
   ]
  },
  {
   "cell_type": "code",
   "execution_count": null,
   "metadata": {},
   "outputs": [],
   "source": [
    "Classification={}\n",
    "Classification[polytopes.tetrahedron()]='Tetrahedron'\n",
    "Classification[polytopes.regular_polygon(3).bipyramid()]='Bipyramid over the triangle'\n",
    "Classification[polytopes.octahedron()]='Octahedron'\n",
    "Classification[Polyhedron([[0,0,0],[0,0,4],[0,4,0],[4,0,0],[-1,2,2],[2,-1,2]])]='Tetrahedron stacked twice'"
   ]
  },
  {
   "cell_type": "code",
   "execution_count": null,
   "metadata": {},
   "outputs": [],
   "source": [
    "P=Polyhedron([[0,0,0],[0,0,4],[0,4,0],[4,0,0],[-1,2,2],[2,-1,2]])"
   ]
  },
  {
   "cell_type": "code",
   "execution_count": null,
   "metadata": {},
   "outputs": [],
   "source": [
    "P=getrandompolytope(6,3)\n",
    "print P.n_vertices()\n",
    "P.show(viewer='threejs',online=True)"
   ]
  },
  {
   "cell_type": "code",
   "execution_count": null,
   "metadata": {
    "scrolled": false
   },
   "outputs": [],
   "source": [
    "counts={}\n",
    "for C in Classification.values():\n",
    "    counts[C]=0\n",
    "for i in range(1000):\n",
    "    P=getrandompolytope(6,3)\n",
    "\n",
    "    for Q in Classification:\n",
    "        if Q.face_lattice().is_isomorphic(P.face_lattice()):\n",
    "            #print i\n",
    "            counts[Classification[Q]]+=1"
   ]
  },
  {
   "cell_type": "code",
   "execution_count": null,
   "metadata": {},
   "outputs": [],
   "source": [
    "counts"
   ]
  },
  {
   "cell_type": "code",
   "execution_count": null,
   "metadata": {},
   "outputs": [],
   "source": []
  },
  {
   "cell_type": "code",
   "execution_count": null,
   "metadata": {},
   "outputs": [],
   "source": [
    "for Q in Classification:\n",
    "    print Classification[Q],Q.is_simplicial(), Q.face_lattice()"
   ]
  },
  {
   "cell_type": "code",
   "execution_count": null,
   "metadata": {},
   "outputs": [],
   "source": [
    "P=getrandompolytope(5,2)\n",
    "Q=getrandompolytope(7,2)\n",
    "\n",
    "P.show()\n",
    "Q.show()\n",
    "(P+Q).show()"
   ]
  },
  {
   "cell_type": "code",
   "execution_count": null,
   "metadata": {},
   "outputs": [],
   "source": [
    "D = polytopes.dodecahedron()\n",
    "D.polar() == polytopes.icosahedron()"
   ]
  },
  {
   "cell_type": "code",
   "execution_count": null,
   "metadata": {},
   "outputs": [],
   "source": [
    "latex.add_to_preamble('\\\\usepackage{tikz}')"
   ]
  },
  {
   "cell_type": "code",
   "execution_count": null,
   "metadata": {
    "scrolled": true
   },
   "outputs": [],
   "source": [
    "D.show(viewer='threejs',online=True,opacity=0.5)"
   ]
  },
  {
   "cell_type": "code",
   "execution_count": null,
   "metadata": {
    "scrolled": true
   },
   "outputs": [],
   "source": [
    "print D.projection().tikz([-764, -346, -545], 76.39)"
   ]
  },
  {
   "cell_type": "code",
   "execution_count": null,
   "metadata": {},
   "outputs": [],
   "source": [
    "view(D.projection().tikz([-764, -346, -545], 76.39))"
   ]
  },
  {
   "cell_type": "code",
   "execution_count": null,
   "metadata": {},
   "outputs": [],
   "source": []
  },
  {
   "cell_type": "code",
   "execution_count": null,
   "metadata": {},
   "outputs": [],
   "source": []
  },
  {
   "cell_type": "code",
   "execution_count": null,
   "metadata": {},
   "outputs": [],
   "source": []
  },
  {
   "cell_type": "code",
   "execution_count": null,
   "metadata": {},
   "outputs": [],
   "source": []
  }
 ],
 "metadata": {
  "kernelspec": {
   "display_name": "SageMath 8.4.beta2",
   "language": "",
   "name": "sagemath"
  },
  "language_info": {
   "codemirror_mode": {
    "name": "ipython",
    "version": 2
   },
   "file_extension": ".py",
   "mimetype": "text/x-python",
   "name": "python",
   "nbconvert_exporter": "python",
   "pygments_lexer": "ipython2",
   "version": "2.7.15"
  }
 },
 "nbformat": 4,
 "nbformat_minor": 1
}
