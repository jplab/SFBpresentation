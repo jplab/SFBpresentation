{
 "cells": [
  {
   "cell_type": "code",
   "execution_count": null,
   "metadata": {},
   "outputs": [],
   "source": []
  },
  {
   "cell_type": "code",
   "execution_count": 177,
   "metadata": {},
   "outputs": [
    {
     "data": {
      "text/plain": [
       "A 3-dimensional polyhedron in RDF^3 defined as the convex hull of 6 vertices (use the .plot() method to plot)"
      ]
     },
     "execution_count": 177,
     "metadata": {},
     "output_type": "execute_result"
    }
   ],
   "source": [
    "n = 6\n",
    "d = 3\n",
    "P = Polyhedron([[random() for _ in range(d)] for i in range(n)])\n",
    "P"
   ]
  },
  {
   "cell_type": "code",
   "execution_count": 178,
   "metadata": {},
   "outputs": [
    {
     "data": {
      "text/plain": [
       "True"
      ]
     },
     "execution_count": 178,
     "metadata": {},
     "output_type": "execute_result"
    }
   ],
   "source": [
    "G = P.graph()\n",
    "G.is_inscribable()"
   ]
  },
  {
   "cell_type": "code",
   "execution_count": 211,
   "metadata": {},
   "outputs": [],
   "source": [
    "import re\n",
    "def scip_str(varis, eqns, obj, bounds, maximize=True):\n",
    "    firstletters = ''.join(set([str(_)[0] for _ in varis]))\n",
    "    clean=re.compile(r'([\\ ,-][0-9]+\\.*[0-9]*)\\*(['+firstletters+'])')\n",
    "    #p=re.compile(r'\\(.*e...\\)')\n",
    "\n",
    "    if maximize:\n",
    "        out='Maximize'\n",
    "    else:\n",
    "        out='Minimize'\n",
    "    \n",
    "    out+='\\n obj: ' + str(obj) + '\\nSubject to\\n'\n",
    "    for i, eq in enumerate(eqns):\n",
    "        out+= clean.sub(r\"\\1\\2\", \"eq\"+str(i)+\": \"+str(eq)+\"\\n\")\n",
    "    out+=\"Bounds\\n\"\n",
    "    for v in varis:\n",
    "        out+='{} <= {} <={}\\n'.format(bounds[v][0], v, bounds[v][1])\n",
    "    return out\n",
    "def solution(loes, varis):\n",
    "    los=open(loes)\n",
    "    solu=dict()\n",
    "    p=dict()\n",
    "    for v in varis:\n",
    "        solu[v]=0\n",
    "    with los as file:\n",
    "        for line in file.readlines():\n",
    "            if 'no solution available' in line:\n",
    "                return 0\n",
    "            begins=[str(v)[0] for v in varis]\n",
    "            if line[0] in begins:\n",
    "                solu[SR(line.split()[0])]=RR(line.split()[1])\n",
    "    los.close()\n",
    "    return solu\n"
   ]
  },
  {
   "cell_type": "code",
   "execution_count": 200,
   "metadata": {},
   "outputs": [],
   "source": [
    "x = dict()\n",
    "bounds = dict()\n",
    "for i in range(P.n_vertices()):\n",
    "    for j in range(d):\n",
    "        x[i,j] = var('x_{}_{}'.format(i,j))\n",
    "        bounds[x[i,j]] = [-1, 1]\n",
    "m = var('m')\n",
    "bounds[m] = [0.0000015,20]"
   ]
  },
  {
   "cell_type": "code",
   "execution_count": 201,
   "metadata": {},
   "outputs": [
    {
     "name": "stdout",
     "output_type": "stream",
     "text": [
      "15\n"
     ]
    }
   ],
   "source": [
    "eqns = []\n",
    "print binomial(n, d+1)\n",
    "for fac in P.faces(d-1):\n",
    "    face =  [_.index() for _ in fac.vertices()]\n",
    "    #print face\n",
    "    for i in range(P.n_vertices()):\n",
    "        if i not in face:\n",
    "            c = [i]+face\n",
    "            sig = Matrix([[1] +P.vertices_list()[i] for i in c]).det().sign()\n",
    "            #print sig\n",
    "            assert sig in [1, -1]\n",
    "            eqns.append((sig*Matrix([[1] +[x[i,j] for j in range(d)] for i in c]).det()-m) >=0)\n",
    "for j in range(d):\n",
    "    eqns.append(x[0,j] == int(j==0))\n",
    "eqns.append(x[1,2] == 0)\n",
    "eqns.append(x[1,1] == 1)\n",
    "\n",
    "for i in range(P.n_vertices()):\n",
    "    eqns.append(sum(x[i,_]^2 for _ in range(d)) == 1)\n"
   ]
  },
  {
   "cell_type": "code",
   "execution_count": 202,
   "metadata": {},
   "outputs": [],
   "source": [
    "datei = open('./prob.pip', 'w')\n",
    "datei.write(scip_str(x.values()+[m], eqns, m, bounds))\n",
    "datei.close()"
   ]
  },
  {
   "cell_type": "code",
   "execution_count": 186,
   "metadata": {},
   "outputs": [
    {
     "data": {
      "text/plain": [
       "True"
      ]
     },
     "execution_count": 186,
     "metadata": {},
     "output_type": "execute_result"
    }
   ],
   "source": [
    "G = P.graph()\n",
    "G.is_inscribable()"
   ]
  },
  {
   "cell_type": "code",
   "execution_count": 230,
   "metadata": {},
   "outputs": [],
   "source": [
    "sol = solution('./sol.txt', x.values()+[m])"
   ]
  },
  {
   "cell_type": "code",
   "execution_count": 231,
   "metadata": {},
   "outputs": [
    {
     "data": {
      "text/plain": [
       "{x_0_2: 0,\n",
       " x_3_0: -0.264143228925214,\n",
       " x_5_1: -0.819472900995616,\n",
       " x_1_2: 0,\n",
       " x_4_0: -0.982923263432983,\n",
       " m: 0.435342276698220,\n",
       " x_0_1: 0,\n",
       " x_2_2: -0.823819822617832,\n",
       " x_5_0: 0.154431683100288,\n",
       " x_1_1: 1.00000000000000,\n",
       " x_3_2: -0.541440770644801,\n",
       " x_0_0: 1.00000000000000,\n",
       " x_2_1: -0.564505681113061,\n",
       " x_4_2: 0.184016226556030,\n",
       " x_1_0: -0.0000316228109766838,\n",
       " x_3_1: 0.798166858426250,\n",
       " x_5_2: -0.551919398242246,\n",
       " x_2_0: 0.0515197590590155,\n",
       " x_4_1: 2.09073787707040e-9}"
      ]
     },
     "execution_count": 231,
     "metadata": {},
     "output_type": "execute_result"
    }
   ],
   "source": [
    "sol"
   ]
  },
  {
   "cell_type": "code",
   "execution_count": 232,
   "metadata": {},
   "outputs": [],
   "source": [
    "Q = Polyhedron([sol[x[i,j]] for j in range(d)] for i in range(P.n_vertices()))"
   ]
  },
  {
   "cell_type": "code",
   "execution_count": 227,
   "metadata": {},
   "outputs": [
    {
     "data": {
      "text/html": [
       "\n",
       "<iframe srcdoc=\"\n",
       "<html>\n",
       "<head>\n",
       "  <style>\n",
       "    * {\n",
       "      margin: 0;\n",
       "      padding: 0;\n",
       "      overflow: hidden;\n",
       "    }\n",
       "    body, html {      \n",
       "      height: 100%;\n",
       "      width: 100%;\n",
       "    }\n",
       "  </style>\n",
       "  <script type=&quot;text/javascript&quot; src=&quot;/nbextensions/jsmol/JSmol.min.js&quot;></script>\n",
       "</head>\n",
       "<body>\n",
       "  <script type=&quot;text/javascript&quot;>\n",
       "    var script = [\n",
       "  'data &quot;model list&quot;',\n",
       "  '10',\n",
       "  'empty',\n",
       "  'Xx -3.0 -4.0 -3.0',\n",
       "  'Xx 0.0 -4.0 -3.0',\n",
       "  'Xx 3.0 -4.0 -3.0',\n",
       "  'Xx 4.0 -3.0 -3.0',\n",
       "  'Xx 4.0 0.0 -3.0',\n",
       "  'Xx 4.0 3.0 -3.0',\n",
       "  'Xx -4.0 -3.0 -3.0',\n",
       "  'Xx -4.0 -3.0 0.0',\n",
       "  'Xx -4.0 -3.0 3.0',\n",
       "  'Xx 5.5 5.5 5.5',\n",
       "  'end &quot;model list&quot;; show data',\n",
       "  'select *',\n",
       "  'wireframe off; spacefill off',\n",
       "  'set labelOffset 0 0',\n",
       "  'background [255,255,255]',\n",
       "  'spin OFF',\n",
       "  'moveto 0 -764 -346 -545 76.39',\n",
       "  'centerAt absolute {0 0 0}',\n",
       "  'zoom 100',\n",
       "  'frank OFF',\n",
       "  'set perspectivedepth ON',\n",
       "  'draw point_1 DIAMETER 5 {1.6764446805 2.4353381628 0.6954088836}',\n",
       "  'color $point_1  [0,0,255]',\n",
       "  'draw point_2 DIAMETER 5 {2.0036617491 2.4429314517 1.217932062}',\n",
       "  'color $point_2  [0,0,255]',\n",
       "  'draw point_3 DIAMETER 5 {0.7154256336 1.8791236608 1.7407021611}',\n",
       "  'color $point_3  [0,0,255]',\n",
       "  'draw point_4 DIAMETER 5 {2.1908100243 2.7152075682 1.9628047947}',\n",
       "  'color $point_4  [0,0,255]',\n",
       "  'draw point_5 DIAMETER 5 {2.9554533288 1.7009975958 1.9955390997}',\n",
       "  'color $point_5  [0,0,255]',\n",
       "  'draw point_6 DIAMETER 5 {1.9031051883 1.2042105936 0.15158906214}',\n",
       "  'color $point_6  [0,0,255]',\n",
       "  'draw line_7 diameter 1 curve {1.6764446805 2.4353381628 0.6954088836}  {2.0036617491 2.4429314517 1.217932062} ',\n",
       "  'color $line_7  [0,0,255]',\n",
       "  'draw line_8 diameter 1 curve {1.6764446805 2.4353381628 0.6954088836}  {0.7154256336 1.8791236608 1.7407021611} ',\n",
       "  'color $line_8  [0,0,255]',\n",
       "  'draw line_9 diameter 1 curve {1.6764446805 2.4353381628 0.6954088836}  {2.1908100243 2.7152075682 1.9628047947} ',\n",
       "  'color $line_9  [0,0,255]',\n",
       "  'draw line_10 diameter 1 curve {1.6764446805 2.4353381628 0.6954088836}  {2.9554533288 1.7009975958 1.9955390997} ',\n",
       "  'color $line_10  [0,0,255]',\n",
       "  'draw line_11 diameter 1 curve {1.6764446805 2.4353381628 0.6954088836}  {1.9031051883 1.2042105936 0.15158906214} ',\n",
       "  'color $line_11  [0,0,255]',\n",
       "  'draw line_12 diameter 1 curve {2.0036617491 2.4429314517 1.217932062}  {2.1908100243 2.7152075682 1.9628047947} ',\n",
       "  'color $line_12  [0,0,255]',\n",
       "  'draw line_13 diameter 1 curve {2.0036617491 2.4429314517 1.217932062}  {2.9554533288 1.7009975958 1.9955390997} ',\n",
       "  'color $line_13  [0,0,255]',\n",
       "  'draw line_14 diameter 1 curve {0.7154256336 1.8791236608 1.7407021611}  {2.1908100243 2.7152075682 1.9628047947} ',\n",
       "  'color $line_14  [0,0,255]',\n",
       "  'draw line_15 diameter 1 curve {0.7154256336 1.8791236608 1.7407021611}  {2.9554533288 1.7009975958 1.9955390997} ',\n",
       "  'color $line_15  [0,0,255]',\n",
       "  'draw line_16 diameter 1 curve {0.7154256336 1.8791236608 1.7407021611}  {1.9031051883 1.2042105936 0.15158906214} ',\n",
       "  'color $line_16  [0,0,255]',\n",
       "  'draw line_17 diameter 1 curve {2.1908100243 2.7152075682 1.9628047947}  {2.9554533288 1.7009975958 1.9955390997} ',\n",
       "  'color $line_17  [0,0,255]',\n",
       "  'draw line_18 diameter 1 curve {2.9554533288 1.7009975958 1.9955390997}  {1.9031051883 1.2042105936 0.15158906214} ',\n",
       "  'color $line_18  [0,0,255]',\n",
       "  'pmesh obj_19 inline &quot;17',\n",
       "  '1.67644 2.43534 0.695409',\n",
       "  '2.00366 2.44293 1.21793',\n",
       "  '0.715426 1.87912 1.7407',\n",
       "  '2.19081 2.71521 1.9628',\n",
       "  '2.95545 1.701 1.99554',\n",
       "  '1.90311 1.20421 0.151589',\n",
       "  '1.67644 2.43534 0.695409',\n",
       "  '0.715426 1.87912 1.7407',\n",
       "  '2.19081 2.71521 1.9628',\n",
       "  '2.95545 1.701 1.99554',\n",
       "  '1.90311 1.20421 0.151589',\n",
       "  '1.67644 2.43534 0.695409',\n",
       "  '0.715426 1.87912 1.7407',\n",
       "  '2.19081 2.71521 1.9628',\n",
       "  '2.95545 1.701 1.99554',\n",
       "  '1.90311 1.20421 0.151589',\n",
       "  '0.715426 1.87912 1.7407',\n",
       "  '8',\n",
       "  '4',\n",
       "  '3',\n",
       "  '0',\n",
       "  '2',\n",
       "  '3',\n",
       "  '4',\n",
       "  '1',\n",
       "  '6',\n",
       "  '8',\n",
       "  '1',\n",
       "  '4',\n",
       "  '7',\n",
       "  '11',\n",
       "  '5',\n",
       "  '7',\n",
       "  '4',\n",
       "  '10',\n",
       "  '6',\n",
       "  '4',\n",
       "  '10',\n",
       "  '4',\n",
       "  '9',\n",
       "  '12',\n",
       "  '15',\n",
       "  '9',\n",
       "  '4',\n",
       "  '4',\n",
       "  '6',\n",
       "  '1',\n",
       "  '4',\n",
       "  '4',\n",
       "  '4',\n",
       "  '1',\n",
       "  '8',\n",
       "  '4',\n",
       "  '4',\n",
       "  '13',\n",
       "  '16',\n",
       "  '14',\n",
       "  '13&quot;',\n",
       "  'color pmesh  [0,128,0]',\n",
       "  'isosurface sphere_20  center {0.0 0.0 0.0} sphere 3.0',\n",
       "  'color isosurface translucent 0.6 [102,102,255]',\n",
       "  'draw line_21 diameter 1 curve {-3.0 -3.0 -3.0}  {-3.0 3.0 -3.0} ',\n",
       "  'color $line_21 translucent 0.5 [0,0,0]',\n",
       "  'draw line_22 diameter 1 curve {-3.0 3.0 -3.0}  {3.0 3.0 -3.0} ',\n",
       "  'color $line_22 translucent 0.5 [0,0,0]',\n",
       "  'draw line_23 diameter 1 curve {3.0 3.0 -3.0}  {3.0 -3.0 -3.0} ',\n",
       "  'color $line_23 translucent 0.5 [0,0,0]',\n",
       "  'draw line_24 diameter 1 curve {3.0 -3.0 -3.0}  {-3.0 -3.0 -3.0} ',\n",
       "  'color $line_24 translucent 0.5 [0,0,0]',\n",
       "  'draw line_25 diameter 1 curve {-3.0 -3.0 -3.0}  {-3.0 -3.0 3.0} ',\n",
       "  'color $line_25 translucent 0.5 [0,0,0]',\n",
       "  'draw line_26 diameter 1 curve {-3.0 -3.0 3.0}  {-3.0 3.0 3.0} ',\n",
       "  'color $line_26 translucent 0.5 [0,0,0]',\n",
       "  'draw line_27 diameter 1 curve {-3.0 3.0 3.0}  {3.0 3.0 3.0} ',\n",
       "  'color $line_27 translucent 0.5 [0,0,0]',\n",
       "  'draw line_28 diameter 1 curve {3.0 3.0 3.0}  {3.0 -3.0 3.0} ',\n",
       "  'color $line_28 translucent 0.5 [0,0,0]',\n",
       "  'draw line_29 diameter 1 curve {3.0 -3.0 3.0}  {-3.0 -3.0 3.0} ',\n",
       "  'color $line_29 translucent 0.5 [0,0,0]',\n",
       "  'draw line_30 diameter 1 curve {-3.0 -3.0 3.0} ',\n",
       "  'color $line_30 translucent 0.5 [0,0,0]',\n",
       "  'draw line_31 diameter 1 curve {-3.0 3.0 -3.0}  {-3.0 3.0 3.0} ',\n",
       "  'color $line_31 translucent 0.5 [0,0,0]',\n",
       "  'draw line_32 diameter 1 curve {3.0 -3.0 -3.0}  {3.0 -3.0 3.0} ',\n",
       "  'color $line_32 translucent 0.5 [0,0,0]',\n",
       "  'draw line_33 diameter 1 curve {3.0 3.0 -3.0}  {3.0 3.0 3.0} ',\n",
       "  'color $line_33 translucent 0.5 [0,0,0]',\n",
       "  'select atomno = 1',\n",
       "  'color atom  [76,76,76]',\n",
       "  'label &quot;-1.0&quot;',\n",
       "  'select atomno = 2',\n",
       "  'color atom  [76,76,76]',\n",
       "  'label &quot;0.0&quot;',\n",
       "  'select atomno = 3',\n",
       "  'color atom  [76,76,76]',\n",
       "  'label &quot;1.0&quot;',\n",
       "  'select atomno = 4',\n",
       "  'color atom  [76,76,76]',\n",
       "  'label &quot;-1.0&quot;',\n",
       "  'select atomno = 5',\n",
       "  'color atom  [76,76,76]',\n",
       "  'label &quot;0.0&quot;',\n",
       "  'select atomno = 6',\n",
       "  'color atom  [76,76,76]',\n",
       "  'label &quot;1.0&quot;',\n",
       "  'select atomno = 7',\n",
       "  'color atom  [76,76,76]',\n",
       "  'label &quot;-1.0&quot;',\n",
       "  'select atomno = 8',\n",
       "  'color atom  [76,76,76]',\n",
       "  'label &quot;0.0&quot;',\n",
       "  'select atomno = 9',\n",
       "  'color atom  [76,76,76]',\n",
       "  'label &quot;1.0&quot;',\n",
       "  'isosurface fullylit; pmesh o* fullylit; set antialiasdisplay on;',\n",
       "].join('\\n');;\n",
       "    var Info = {\n",
       "      width: '100%',\n",
       "      height: '500',\n",
       "      debug: false,\n",
       "      disableInitialConsole: true,   // very slow when used with inline mesh\n",
       "      color: '#3131ff',\n",
       "      addSelectionOptions: false,\n",
       "      use: 'HTML5',\n",
       "      j2sPath: '/nbextensions/jsmol/j2s',\n",
       "      script: script,\n",
       "    };\n",
       "    var jmolApplet0 = Jmol.getApplet('jmolApplet0', Info);\n",
       "  </script>\n",
       "</body>\n",
       "</html>\n",
       "\" \n",
       "        width=\"100%\"\n",
       "        height=\"500\"\n",
       "        style=\"border: 0;\">\n",
       "</iframe>\n"
      ],
      "text/plain": [
       "Graphics3d Object"
      ]
     },
     "execution_count": 227,
     "metadata": {},
     "output_type": "execute_result"
    }
   ],
   "source": [
    "P.plot()+sphere(opacity=.4)"
   ]
  },
  {
   "cell_type": "code",
   "execution_count": 233,
   "metadata": {},
   "outputs": [
    {
     "data": {
      "text/html": [
       "\n",
       "<iframe srcdoc=\"\n",
       "<html>\n",
       "<head>\n",
       "  <style>\n",
       "    * {\n",
       "      margin: 0;\n",
       "      padding: 0;\n",
       "      overflow: hidden;\n",
       "    }\n",
       "    body, html {      \n",
       "      height: 100%;\n",
       "      width: 100%;\n",
       "    }\n",
       "  </style>\n",
       "  <script type=&quot;text/javascript&quot; src=&quot;/nbextensions/jsmol/JSmol.min.js&quot;></script>\n",
       "</head>\n",
       "<body>\n",
       "  <script type=&quot;text/javascript&quot;>\n",
       "    var script = [\n",
       "  'data &quot;model list&quot;',\n",
       "  '10',\n",
       "  'empty',\n",
       "  'Xx -3.0 -4.0 -3.0',\n",
       "  'Xx 0.0 -4.0 -3.0',\n",
       "  'Xx 3.0 -4.0 -3.0',\n",
       "  'Xx 4.0 -3.0 -3.0',\n",
       "  'Xx 4.0 0.0 -3.0',\n",
       "  'Xx 4.0 3.0 -3.0',\n",
       "  'Xx -4.0 -3.0 -3.0',\n",
       "  'Xx -4.0 -3.0 0.0',\n",
       "  'Xx -4.0 -3.0 3.0',\n",
       "  'Xx 5.5 5.5 5.5',\n",
       "  'end &quot;model list&quot;; show data',\n",
       "  'select *',\n",
       "  'wireframe off; spacefill off',\n",
       "  'set labelOffset 0 0',\n",
       "  'background [255,255,255]',\n",
       "  'spin OFF',\n",
       "  'moveto 0 -764 -346 -545 76.39',\n",
       "  'centerAt absolute {0 0 0}',\n",
       "  'zoom 100',\n",
       "  'frank OFF',\n",
       "  'set perspectivedepth ON',\n",
       "  'draw point_1 DIAMETER 5 {3.0 0.0 0.0}',\n",
       "  'color $point_1  [0,0,255]',\n",
       "  'draw point_2 DIAMETER 5 {0.0 3.0 0.0}',\n",
       "  'color $point_2  [0,0,255]',\n",
       "  'draw point_3 DIAMETER 5 {0.15455927718 -1.6935170433 -2.4714594678}',\n",
       "  'color $point_3  [0,0,255]',\n",
       "  'draw point_4 DIAMETER 5 {-0.7924296867 2.3945005752 -1.6243223118}',\n",
       "  'color $point_4  [0,0,255]',\n",
       "  'draw point_5 DIAMETER 5 {-2.9487697902 0.0 0.5520486798}',\n",
       "  'color $point_5  [0,0,255]',\n",
       "  'draw point_6 DIAMETER 5 {0.4632950493 -2.458418703 -1.6557581946}',\n",
       "  'color $point_6  [0,0,255]',\n",
       "  'draw line_7 diameter 1 curve {3.0 0.0 0.0}  {0.0 3.0 0.0} ',\n",
       "  'color $line_7  [0,0,255]',\n",
       "  'draw line_8 diameter 1 curve {3.0 0.0 0.0}  {0.15455927718 -1.6935170433 -2.4714594678} ',\n",
       "  'color $line_8  [0,0,255]',\n",
       "  'draw line_9 diameter 1 curve {3.0 0.0 0.0}  {-0.7924296867 2.3945005752 -1.6243223118} ',\n",
       "  'color $line_9  [0,0,255]',\n",
       "  'draw line_10 diameter 1 curve {3.0 0.0 0.0}  {-2.9487697902 0.0 0.5520486798} ',\n",
       "  'color $line_10  [0,0,255]',\n",
       "  'draw line_11 diameter 1 curve {3.0 0.0 0.0}  {0.4632950493 -2.458418703 -1.6557581946} ',\n",
       "  'color $line_11  [0,0,255]',\n",
       "  'draw line_12 diameter 1 curve {0.0 3.0 0.0}  {-0.7924296867 2.3945005752 -1.6243223118} ',\n",
       "  'color $line_12  [0,0,255]',\n",
       "  'draw line_13 diameter 1 curve {0.0 3.0 0.0}  {-2.9487697902 0.0 0.5520486798} ',\n",
       "  'color $line_13  [0,0,255]',\n",
       "  'draw line_14 diameter 1 curve {0.15455927718 -1.6935170433 -2.4714594678}  {-0.7924296867 2.3945005752 -1.6243223118} ',\n",
       "  'color $line_14  [0,0,255]',\n",
       "  'draw line_15 diameter 1 curve {0.15455927718 -1.6935170433 -2.4714594678}  {-2.9487697902 0.0 0.5520486798} ',\n",
       "  'color $line_15  [0,0,255]',\n",
       "  'draw line_16 diameter 1 curve {0.15455927718 -1.6935170433 -2.4714594678}  {0.4632950493 -2.458418703 -1.6557581946} ',\n",
       "  'color $line_16  [0,0,255]',\n",
       "  'draw line_17 diameter 1 curve {-0.7924296867 2.3945005752 -1.6243223118}  {-2.9487697902 0.0 0.5520486798} ',\n",
       "  'color $line_17  [0,0,255]',\n",
       "  'draw line_18 diameter 1 curve {-2.9487697902 0.0 0.5520486798}  {0.4632950493 -2.458418703 -1.6557581946} ',\n",
       "  'color $line_18  [0,0,255]',\n",
       "  'pmesh obj_19 inline &quot;22',\n",
       "  '3 0 0',\n",
       "  '0 3 0',\n",
       "  '0.154559 -1.69352 -2.47146',\n",
       "  '-0.79243 2.3945 -1.62432',\n",
       "  '-2.94877 0 0.552049',\n",
       "  '0.463295 -2.45842 -1.65576',\n",
       "  '3 0 0',\n",
       "  '0 3 0',\n",
       "  '0.154559 -1.69352 -2.47146',\n",
       "  '-0.79243 2.3945 -1.62432',\n",
       "  '-2.94877 0 0.552049',\n",
       "  '0.463295 -2.45842 -1.65576',\n",
       "  '3 0 0',\n",
       "  '0 3 0',\n",
       "  '0.154559 -1.69352 -2.47146',\n",
       "  '-0.79243 2.3945 -1.62432',\n",
       "  '-2.94877 0 0.552049',\n",
       "  '0.463295 -2.45842 -1.65576',\n",
       "  '3 0 0',\n",
       "  '0.154559 -1.69352 -2.47146',\n",
       "  '-2.94877 0 0.552049',\n",
       "  '-2.94877 0 0.552049',\n",
       "  '8',\n",
       "  '4',\n",
       "  '4',\n",
       "  '2',\n",
       "  '5',\n",
       "  '4',\n",
       "  '4',\n",
       "  '3',\n",
       "  '8',\n",
       "  '10',\n",
       "  '3',\n",
       "  '4',\n",
       "  '16',\n",
       "  '1',\n",
       "  '9',\n",
       "  '16',\n",
       "  '4',\n",
       "  '15',\n",
       "  '0',\n",
       "  '14',\n",
       "  '15',\n",
       "  '4',\n",
       "  '7',\n",
       "  '0',\n",
       "  '15',\n",
       "  '7',\n",
       "  '4',\n",
       "  '20',\n",
       "  '6',\n",
       "  '13',\n",
       "  '20',\n",
       "  '4',\n",
       "  '19',\n",
       "  '12',\n",
       "  '11',\n",
       "  '19',\n",
       "  '4',\n",
       "  '17',\n",
       "  '18',\n",
       "  '21',\n",
       "  '17&quot;',\n",
       "  'color pmesh  [0,128,0]',\n",
       "  'isosurface sphere_20  center {0.0 0.0 0.0} sphere 3.0',\n",
       "  'color isosurface translucent 0.6 [102,102,255]',\n",
       "  'draw line_21 diameter 1 curve {-3.0 -3.0 -3.0}  {-3.0 3.0 -3.0} ',\n",
       "  'color $line_21 translucent 0.5 [0,0,0]',\n",
       "  'draw line_22 diameter 1 curve {-3.0 3.0 -3.0}  {3.0 3.0 -3.0} ',\n",
       "  'color $line_22 translucent 0.5 [0,0,0]',\n",
       "  'draw line_23 diameter 1 curve {3.0 3.0 -3.0}  {3.0 -3.0 -3.0} ',\n",
       "  'color $line_23 translucent 0.5 [0,0,0]',\n",
       "  'draw line_24 diameter 1 curve {3.0 -3.0 -3.0}  {-3.0 -3.0 -3.0} ',\n",
       "  'color $line_24 translucent 0.5 [0,0,0]',\n",
       "  'draw line_25 diameter 1 curve {-3.0 -3.0 -3.0}  {-3.0 -3.0 3.0} ',\n",
       "  'color $line_25 translucent 0.5 [0,0,0]',\n",
       "  'draw line_26 diameter 1 curve {-3.0 -3.0 3.0}  {-3.0 3.0 3.0} ',\n",
       "  'color $line_26 translucent 0.5 [0,0,0]',\n",
       "  'draw line_27 diameter 1 curve {-3.0 3.0 3.0}  {3.0 3.0 3.0} ',\n",
       "  'color $line_27 translucent 0.5 [0,0,0]',\n",
       "  'draw line_28 diameter 1 curve {3.0 3.0 3.0}  {3.0 -3.0 3.0} ',\n",
       "  'color $line_28 translucent 0.5 [0,0,0]',\n",
       "  'draw line_29 diameter 1 curve {3.0 -3.0 3.0}  {-3.0 -3.0 3.0} ',\n",
       "  'color $line_29 translucent 0.5 [0,0,0]',\n",
       "  'draw line_30 diameter 1 curve {-3.0 -3.0 3.0} ',\n",
       "  'color $line_30 translucent 0.5 [0,0,0]',\n",
       "  'draw line_31 diameter 1 curve {-3.0 3.0 -3.0}  {-3.0 3.0 3.0} ',\n",
       "  'color $line_31 translucent 0.5 [0,0,0]',\n",
       "  'draw line_32 diameter 1 curve {3.0 -3.0 -3.0}  {3.0 -3.0 3.0} ',\n",
       "  'color $line_32 translucent 0.5 [0,0,0]',\n",
       "  'draw line_33 diameter 1 curve {3.0 3.0 -3.0}  {3.0 3.0 3.0} ',\n",
       "  'color $line_33 translucent 0.5 [0,0,0]',\n",
       "  'select atomno = 1',\n",
       "  'color atom  [76,76,76]',\n",
       "  'label &quot;-1.0&quot;',\n",
       "  'select atomno = 2',\n",
       "  'color atom  [76,76,76]',\n",
       "  'label &quot;0.0&quot;',\n",
       "  'select atomno = 3',\n",
       "  'color atom  [76,76,76]',\n",
       "  'label &quot;1.0&quot;',\n",
       "  'select atomno = 4',\n",
       "  'color atom  [76,76,76]',\n",
       "  'label &quot;-1.0&quot;',\n",
       "  'select atomno = 5',\n",
       "  'color atom  [76,76,76]',\n",
       "  'label &quot;0.0&quot;',\n",
       "  'select atomno = 6',\n",
       "  'color atom  [76,76,76]',\n",
       "  'label &quot;1.0&quot;',\n",
       "  'select atomno = 7',\n",
       "  'color atom  [76,76,76]',\n",
       "  'label &quot;-1.0&quot;',\n",
       "  'select atomno = 8',\n",
       "  'color atom  [76,76,76]',\n",
       "  'label &quot;0.0&quot;',\n",
       "  'select atomno = 9',\n",
       "  'color atom  [76,76,76]',\n",
       "  'label &quot;1.0&quot;',\n",
       "  'isosurface fullylit; pmesh o* fullylit; set antialiasdisplay on;',\n",
       "].join('\\n');;\n",
       "    var Info = {\n",
       "      width: '100%',\n",
       "      height: '500',\n",
       "      debug: false,\n",
       "      disableInitialConsole: true,   // very slow when used with inline mesh\n",
       "      color: '#3131ff',\n",
       "      addSelectionOptions: false,\n",
       "      use: 'HTML5',\n",
       "      j2sPath: '/nbextensions/jsmol/j2s',\n",
       "      script: script,\n",
       "    };\n",
       "    var jmolApplet0 = Jmol.getApplet('jmolApplet0', Info);\n",
       "  </script>\n",
       "</body>\n",
       "</html>\n",
       "\" \n",
       "        width=\"100%\"\n",
       "        height=\"500\"\n",
       "        style=\"border: 0;\">\n",
       "</iframe>\n"
      ],
      "text/plain": [
       "Graphics3d Object"
      ]
     },
     "execution_count": 233,
     "metadata": {},
     "output_type": "execute_result"
    }
   ],
   "source": [
    "Q.plot() +sphere(opacity=.4)"
   ]
  },
  {
   "cell_type": "code",
   "execution_count": 234,
   "metadata": {},
   "outputs": [
    {
     "data": {
      "text/plain": [
       "True"
      ]
     },
     "execution_count": 234,
     "metadata": {},
     "output_type": "execute_result"
    }
   ],
   "source": [
    "Q.is_combinatorially_isomorphic(P)"
   ]
  },
  {
   "cell_type": "code",
   "execution_count": 260,
   "metadata": {},
   "outputs": [],
   "source": [
    "def stereo_S_to_R(v):\n",
    "    return vector([_/(1-v[-1]) for _ in v[:-1]])\n",
    "def stereo_R_to_S(v):\n",
    "    dn = 1+sum(_^2 for _ in v)\n",
    "    return 1/dn*vector([2*_ for _ in v] +[dn - 2])\n",
    "def rationalize(z):\n",
    "    return QQ(z).continued_fraction().convergent(3)\n",
    "def spherify(v):\n",
    "    return stereo_R_to_S([rationalize(z) for z in stereo_S_to_R(v)])"
   ]
  },
  {
   "cell_type": "code",
   "execution_count": 261,
   "metadata": {},
   "outputs": [
    {
     "data": {
      "text/plain": [
       "A 3-dimensional polyhedron in QQ^3 defined as the convex hull of 6 vertices (use the .plot() method to plot)"
      ]
     },
     "execution_count": 261,
     "metadata": {},
     "output_type": "execute_result"
    }
   ],
   "source": [
    "S  = Polyhedron([spherify(v) for v in Q.vertices()])\n",
    "S"
   ]
  },
  {
   "cell_type": "code",
   "execution_count": 262,
   "metadata": {},
   "outputs": [
    {
     "data": {
      "text/plain": [
       "True"
      ]
     },
     "execution_count": 262,
     "metadata": {},
     "output_type": "execute_result"
    }
   ],
   "source": [
    "S.is_inscribed()"
   ]
  },
  {
   "cell_type": "code",
   "execution_count": 263,
   "metadata": {},
   "outputs": [
    {
     "data": {
      "text/plain": [
       "True"
      ]
     },
     "execution_count": 263,
     "metadata": {},
     "output_type": "execute_result"
    }
   ],
   "source": [
    "S.is_combinatorially_isomorphic(P)"
   ]
  },
  {
   "cell_type": "code",
   "execution_count": 257,
   "metadata": {},
   "outputs": [
    {
     "data": {
      "text/plain": [
       "5/97"
      ]
     },
     "execution_count": 257,
     "metadata": {},
     "output_type": "execute_result"
    }
   ],
   "source": []
  },
  {
   "cell_type": "code",
   "execution_count": null,
   "metadata": {},
   "outputs": [],
   "source": []
  }
 ],
 "metadata": {
  "kernelspec": {
   "display_name": "SageMath 8.4.beta7",
   "language": "",
   "name": "sagemath"
  },
  "language_info": {
   "codemirror_mode": {
    "name": "ipython",
    "version": 2
   },
   "file_extension": ".py",
   "mimetype": "text/x-python",
   "name": "python",
   "nbconvert_exporter": "python",
   "pygments_lexer": "ipython2",
   "version": "2.7.15"
  }
 },
 "nbformat": 4,
 "nbformat_minor": 2
}
